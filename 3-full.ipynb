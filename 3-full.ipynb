{
 "cells": [
  {
   "cell_type": "code",
   "execution_count": null,
   "metadata": {},
   "outputs": [],
   "source": [
    "from fastai.tabular import *\n",
    "import pandas as pd\n",
    "from tqdm import tqdm"
   ]
  },
  {
   "cell_type": "markdown",
   "metadata": {},
   "source": [
    "# Data preparation"
   ]
  },
  {
   "cell_type": "code",
   "execution_count": null,
   "metadata": {},
   "outputs": [],
   "source": [
    "TARGET_COLUMN_NAME = 'close'\n",
    "DATE_COLUMN_NAME = 'date'"
   ]
  },
  {
   "cell_type": "markdown",
   "metadata": {},
   "source": [
    "## Get the data"
   ]
  },
  {
   "cell_type": "code",
   "execution_count": null,
   "metadata": {
    "scrolled": true
   },
   "outputs": [],
   "source": [
    "from datetime import datetime\n",
    "df = pd.read_csv(\"BTC-ETH-filtered_with_indicators.csv\",\n",
    "                 #read dates as dates\n",
    "                 parse_dates=[DATE_COLUMN_NAME], date_parser=lambda x: datetime.fromtimestamp(int(x)))"
   ]
  },
  {
   "cell_type": "code",
   "execution_count": null,
   "metadata": {},
   "outputs": [],
   "source": [
    "df.head()"
   ]
  },
  {
   "cell_type": "markdown",
   "metadata": {},
   "source": [
    "## Format the data"
   ]
  },
  {
   "cell_type": "code",
   "execution_count": null,
   "metadata": {},
   "outputs": [],
   "source": [
    "ELAPSED = 'Elapsed'"
   ]
  },
  {
   "cell_type": "code",
   "execution_count": null,
   "metadata": {},
   "outputs": [],
   "source": [
    "add_datepart(df, DATE_COLUMN_NAME, time=True);\n",
    "df.head()"
   ]
  },
  {
   "cell_type": "markdown",
   "metadata": {},
   "source": [
    "### Convert to float"
   ]
  },
  {
   "cell_type": "code",
   "execution_count": null,
   "metadata": {},
   "outputs": [],
   "source": [
    "df = df.astype(float)\n",
    "df.head()"
   ]
  },
  {
   "cell_type": "markdown",
   "metadata": {},
   "source": [
    "### Check for NANs"
   ]
  },
  {
   "cell_type": "code",
   "execution_count": null,
   "metadata": {},
   "outputs": [],
   "source": [
    "[(column, sum(df[column].isna())) for column in df.columns]"
   ]
  },
  {
   "cell_type": "code",
   "execution_count": null,
   "metadata": {},
   "outputs": [],
   "source": [
    "pd.set_option('display.max_columns', 500)\n",
    "pd.set_option('display.width', 1000)"
   ]
  },
  {
   "cell_type": "code",
   "execution_count": null,
   "metadata": {},
   "outputs": [],
   "source": [
    "df.describe(include=\"all\")"
   ]
  },
  {
   "cell_type": "code",
   "execution_count": null,
   "metadata": {},
   "outputs": [],
   "source": [
    "drop_columns=['Second', 'Month', 'Year', \\\n",
    "              'Is_quarter_end', 'Is_quarter_start', \\\n",
    "              'Is_year_end', 'Is_year_start',\n",
    "              'Is_month_end', 'Is_month_start',\n",
    "              'Week', 'Dayofyear']"
   ]
  },
  {
   "cell_type": "code",
   "execution_count": null,
   "metadata": {
    "scrolled": true
   },
   "outputs": [],
   "source": [
    "df = df.drop(columns=drop_columns)\n",
    "df.shape"
   ]
  },
  {
   "cell_type": "code",
   "execution_count": null,
   "metadata": {},
   "outputs": [],
   "source": [
    "df.describe(include=\"all\")"
   ]
  },
  {
   "cell_type": "code",
   "execution_count": null,
   "metadata": {},
   "outputs": [],
   "source": [
    "True_target_column_name = TARGET_COLUMN_NAME+'_future'"
   ]
  },
  {
   "cell_type": "code",
   "execution_count": null,
   "metadata": {},
   "outputs": [],
   "source": [
    "df[True_target_column_name] = df[TARGET_COLUMN_NAME].shift(-4)"
   ]
  },
  {
   "cell_type": "code",
   "execution_count": null,
   "metadata": {
    "scrolled": true
   },
   "outputs": [],
   "source": [
    "df.head(10)"
   ]
  },
  {
   "cell_type": "markdown",
   "metadata": {},
   "source": [
    "## Prepare train valid test"
   ]
  },
  {
   "cell_type": "code",
   "execution_count": null,
   "metadata": {
    "scrolled": true
   },
   "outputs": [],
   "source": [
    "# TRAIN_VALID_TEST_SPLIT_RATIOS\n",
    "trvate_split = tuple(int(x * len(df)) for x in (0.75, 0.9, 1.0))\n",
    "print([int(len(df)* x) for x in (0.75, 0.15, 0.1)])\n",
    "trvate_split"
   ]
  },
  {
   "cell_type": "markdown",
   "metadata": {},
   "source": [
    "Search for batch size using http://www.alcula.com/calculators/math/gcd/"
   ]
  },
  {
   "cell_type": "code",
   "execution_count": null,
   "metadata": {},
   "outputs": [],
   "source": [
    "BATCH_SIZE = 24"
   ]
  },
  {
   "cell_type": "code",
   "execution_count": null,
   "metadata": {},
   "outputs": [],
   "source": [
    "tmp_train_limit = trvate_split[0]-trvate_split[0]%BATCH_SIZE\n",
    "train_df = df[:tmp_train_limit]\n",
    "\n",
    "tmp_valid_limit = trvate_split[1] -trvate_split[0]%BATCH_SIZE -(trvate_split[1]-trvate_split[0])%BATCH_SIZE\n",
    "valid_df = df[tmp_train_limit:tmp_valid_limit]\n",
    "\n",
    "test_df = df[tmp_valid_limit:(len(df)- len(df)%BATCH_SIZE)]\n",
    "\n",
    "len(train_df), len(valid_df), len(test_df)"
   ]
  },
  {
   "cell_type": "code",
   "execution_count": null,
   "metadata": {},
   "outputs": [],
   "source": [
    "def input_data(self: pd.DataFrame):\n",
    "    return self.drop(columns=[True_target_column_name])\n",
    "def target(self: pd.DataFrame):\n",
    "    return self[[True_target_column_name]]\n",
    "\n",
    "pd.DataFrame.input_data = input_data\n",
    "pd.DataFrame.target = target"
   ]
  },
  {
   "cell_type": "code",
   "execution_count": null,
   "metadata": {},
   "outputs": [],
   "source": [
    "df.input_data().head()"
   ]
  },
  {
   "cell_type": "code",
   "execution_count": null,
   "metadata": {},
   "outputs": [],
   "source": [
    "print('df.shape', df.shape)\n",
    "print('train_df.shape', train_df.shape)\n",
    "print('valid_df.shape', valid_df.shape)\n",
    "print('test_df.shape', test_df.shape)"
   ]
  },
  {
   "cell_type": "markdown",
   "metadata": {},
   "source": [
    "## Normalize"
   ]
  },
  {
   "cell_type": "code",
   "execution_count": null,
   "metadata": {},
   "outputs": [],
   "source": [
    "from sklearn.preprocessing import StandardScaler, PolynomialFeatures\n",
    "from sklearn.pipeline import Pipeline\n",
    "preprocessing_pipeline = Pipeline([\n",
    "     (\"poli-feature\", PolynomialFeatures(degree=2)),\n",
    "     (\"normalizer\", StandardScaler())\n",
    "]).fit(train_df.input_data(), train_df.target())"
   ]
  },
  {
   "cell_type": "code",
   "execution_count": null,
   "metadata": {},
   "outputs": [],
   "source": [
    "def transform_df(df_to_transform, transformer, columns):\n",
    "    return pd.DataFrame(transformer.transform(df_to_transform), columns=columns)\n",
    "    "
   ]
  },
  {
   "cell_type": "code",
   "execution_count": null,
   "metadata": {},
   "outputs": [],
   "source": [
    "# preprocessing_pipeline[\"poli-feature\"].get_feature_names(valid_df.columns)"
   ]
  },
  {
   "cell_type": "code",
   "execution_count": null,
   "metadata": {
    "scrolled": false
   },
   "outputs": [],
   "source": [
    "#std scaler\n",
    "# std_scaler = StandardScaler()\n",
    "# std_scaler.fit(train_df)\n",
    "\n",
    "# train_data = transform_df(train_df, std_scaler, columns=train_df.columns)\n",
    "# valid_data = transform_df(valid_df, std_scaler, columns=valid_df.columns)\n",
    "# test_data = transform_df(test_df, std_scaler, columns=test_df.columns)\n",
    "\n",
    "#poly transform\n",
    "poly_features = PolynomialFeatures(degree=2)\n",
    "temp = train_df.input_data()\n",
    "poly_features.fit(temp)\n",
    "temp = poly_features.get_feature_names(temp.columns)\n",
    "\n",
    "train_data = transform_df(train_df.input_data(), preprocessing_pipeline, columns=temp)\n",
    "valid_data = transform_df(valid_df.input_data(), preprocessing_pipeline, columns=temp)\n",
    "test_data = transform_df(test_df.input_data(), preprocessing_pipeline, columns=temp)\n",
    "\n",
    "del temp\n",
    "\n",
    "train_data.drop(columns=['1'], inplace=True)\n",
    "valid_data.drop(columns=['1'], inplace=True)\n",
    "test_data.drop(columns=['1'], inplace=True)\n",
    "\n",
    "train_data.head()"
   ]
  },
  {
   "cell_type": "code",
   "execution_count": null,
   "metadata": {
    "scrolled": true
   },
   "outputs": [],
   "source": [
    "train_data.describe(include=\"all\")"
   ]
  },
  {
   "cell_type": "markdown",
   "metadata": {},
   "source": [
    "# Train"
   ]
  },
  {
   "cell_type": "code",
   "execution_count": null,
   "metadata": {},
   "outputs": [],
   "source": [
    "import torch\n",
    "from torch.utils.data import TensorDataset, DataLoader\n",
    "import torch.nn as nn"
   ]
  },
  {
   "cell_type": "markdown",
   "metadata": {},
   "source": [
    "## DataLoaders"
   ]
  },
  {
   "cell_type": "code",
   "execution_count": null,
   "metadata": {},
   "outputs": [],
   "source": [
    "train_loader = DataLoader(TensorDataset(torch.from_numpy(train_data.values),\n",
    "                                        torch.from_numpy(train_df.target().values)),\n",
    "                          shuffle=False, batch_size=BATCH_SIZE)\n",
    "val_loader = DataLoader(TensorDataset(torch.from_numpy(valid_data.values),\n",
    "                                      torch.from_numpy(valid_df.target().values)),\n",
    "                        shuffle=False, batch_size=BATCH_SIZE)\n",
    "test_loader = DataLoader(TensorDataset(torch.from_numpy(test_data.values),\n",
    "                                       torch.from_numpy(test_df.target().values)),\n",
    "                         shuffle=False, batch_size=BATCH_SIZE)"
   ]
  },
  {
   "cell_type": "code",
   "execution_count": null,
   "metadata": {},
   "outputs": [],
   "source": [
    "# torch.cuda.is_available() checks and returns a Boolean True if a GPU is available, else it'll return False\n",
    "# If we have a GPU available, we'll set our device to GPU. We'll use this device variable later in our code.\n",
    "DEVICE = torch.device(\"cuda\") if torch.cuda.is_available() else torch.device(\"cpu\")\n",
    "DEVICE"
   ]
  },
  {
   "cell_type": "markdown",
   "metadata": {},
   "source": [
    "## Model"
   ]
  },
  {
   "cell_type": "code",
   "execution_count": null,
   "metadata": {},
   "outputs": [],
   "source": [
    "class SentimentNet(nn.Module):\n",
    "    def __init__(self, features, output_size=1,\n",
    "#                  embedding_dim=10,\n",
    "#                  hidden_dim=50,\n",
    "                 n_layers=1,\n",
    "                 drop_prob=0.5, device=torch.device(\"cpu\")):\n",
    "        super(SentimentNet, self).__init__()\n",
    "        \n",
    "        embedding_dim=features*2\n",
    "        hidden_dim=features\n",
    "        \n",
    "        self.output_size = output_size\n",
    "        self.n_layers = n_layers\n",
    "        self.hidden_dim = hidden_dim\n",
    "        self.device = device\n",
    "        \n",
    "        self.liniar = nn.Linear(features, embedding_dim)\n",
    "        self.bn1 = nn.BatchNorm1d(num_features=embedding_dim)\n",
    "        \n",
    "        self.lstm = nn.LSTM(input_size=embedding_dim,\n",
    "                            hidden_size=hidden_dim,\n",
    "                            num_layers=n_layers, dropout=drop_prob, batch_first=True)\n",
    "#         self.dropout = nn.Dropout(drop_prob)\n",
    "        self.fc = nn.Sequential(nn.Linear(hidden_dim, hidden_dim//2),\n",
    "                                nn.BatchNorm1d(num_features=hidden_dim//2),\n",
    "                                nn.Dropout(drop_prob),\n",
    "                                nn.Tanh(),\n",
    "                                nn.Linear(hidden_dim//2, output_size))\n",
    "        \n",
    "    def forward(self, x, hidden):\n",
    "        batch_size = x.size(0)\n",
    "        x = x.float()\n",
    "        \n",
    "        liniar = F.relu(self.bn1(self.liniar(x)))\n",
    "        lstm_out, hidden = self.lstm(liniar.view(batch_size, -1, liniar.shape[1]),\n",
    "                                     (hidden[0][:,-batch_size:,:],# hidden\n",
    "                                      hidden[1][:,-batch_size:,:]))# cell state\n",
    "        lstm_out = lstm_out.contiguous().view(-1, self.hidden_dim)\n",
    "#         out = self.dropout(lstm_out)\n",
    "        out = self.fc(lstm_out)\n",
    "        \n",
    "        out = out.view(batch_size, -1)\n",
    "#         out = out[:,-1]\n",
    "        return out, hidden\n",
    "    \n",
    "    def init_hidden(self, batch_size):\n",
    "        weight = next(self.parameters()).data\n",
    "        \n",
    "        hidden = (weight.new(self.n_layers, batch_size, self.hidden_dim).zero_().to(self.device), # hidden\n",
    "                  weight.new(self.n_layers, batch_size, self.hidden_dim).zero_().to(self.device)) # cell state\n",
    "        return hidden"
   ]
  },
  {
   "cell_type": "code",
   "execution_count": null,
   "metadata": {},
   "outputs": [],
   "source": [
    "features_count = train_data.shape[1]\n",
    "# output_size = 1\n",
    "# embedding_dim = 400\n",
    "# hidden_dim = 512\n",
    "# n_layers = 2\n",
    "\n",
    "model = SentimentNet(features_count, device=DEVICE, n_layers=2)\n",
    "model.to(DEVICE)\n",
    "\n",
    "lr=0.0003\n",
    "criterion = nn.L1Loss()\n",
    "optimizer = torch.optim.Adam(model.parameters(), lr=lr)"
   ]
  },
  {
   "cell_type": "code",
   "execution_count": null,
   "metadata": {
    "scrolled": true
   },
   "outputs": [],
   "source": [
    "epochs = 100\n",
    "counter = 0\n",
    "print_every = 1\n",
    "clip = 5\n",
    "valid_loss_min = np.Inf\n",
    "lr_scheduler = torch.optim.lr_scheduler.OneCycleLR(optimizer, max_lr=lr,\n",
    "                                                   steps_per_epoch=len(train_loader),\n",
    "                                                   epochs=epochs)\n",
    "\n",
    "model.train()\n",
    "for i in range(epochs):\n",
    "    h = model.init_hidden(BATCH_SIZE)\n",
    "    \n",
    "    for inputs, labels in train_loader:\n",
    "        counter += 1\n",
    "        inputs, labels = inputs.to(DEVICE), labels.to(DEVICE)\n",
    "        model.zero_grad()\n",
    "        optimizer.zero_grad()\n",
    "        output, h = model(inputs, h)\n",
    "        h = tuple([e.data for e in h])\n",
    "        loss = criterion(output.squeeze(), labels.float())\n",
    "        loss.backward()\n",
    "        nn.utils.clip_grad_norm_(model.parameters(), clip)\n",
    "        optimizer.step()\n",
    "        lr_scheduler.step()\n",
    "        \n",
    "        if counter%print_every == 0:\n",
    "            val_h = tuple([each.data for each in h])#model.init_hidden(BATCH_SIZE)\n",
    "            val_losses = []\n",
    "            model.eval()\n",
    "            for inp, lab in val_loader:\n",
    "                val_h = tuple([each.data for each in val_h])\n",
    "                inp, lab = inp.to(DEVICE), lab.to(DEVICE)\n",
    "                out, val_h = model(inp, val_h)\n",
    "                val_loss = criterion(out.squeeze(), lab.float())\n",
    "                val_losses.append(val_loss.item())\n",
    "\n",
    "            model.train()\n",
    "            print(\"Epoch: {}/{}...\".format(i+1, epochs),\n",
    "                  \"Step: {}...\".format(counter),\n",
    "                  \"Loss: {:.6f}...\".format(loss.item()),\n",
    "                  \"Val Loss: {:.6f}\".format(np.mean(val_losses)))\n",
    "            if np.mean(val_losses) < valid_loss_min:\n",
    "                torch.save(model.state_dict(), './state_dict.pt')\n",
    "                print('Validation loss decreased ({:.6f} --> {:.6f}).  Saving model ...'.format(valid_loss_min,np.mean(val_losses)))\n",
    "                valid_loss_min = np.mean(val_losses)"
   ]
  },
  {
   "cell_type": "markdown",
   "metadata": {},
   "source": [
    "# Test"
   ]
  },
  {
   "cell_type": "markdown",
   "metadata": {},
   "source": [
    "## Visualize"
   ]
  },
  {
   "cell_type": "code",
   "execution_count": null,
   "metadata": {},
   "outputs": [],
   "source": [
    "import matplotlib.pyplot as plt\n",
    "\n",
    "class Visualizer:\n",
    "    colors=['blue','black', 'red']\n",
    "    \n",
    "    def __init__(self):\n",
    "        self.date_pred_targ_dict: dict = dict()\n",
    "        \n",
    "    def add(self, timestamp, pred, targ, color='red'):\n",
    "        self.date_pred_targ_dict[color] = pd.concat([self.date_pred_targ_dict.get(color, pd.DataFrame()),\n",
    "                                                     pd.concat([pd.DataFrame(timestamp),\n",
    "                                                       pd.DataFrame(pred),\n",
    "                                                       pd.DataFrame(targ)], axis=1)])\n",
    "    \n",
    "    def plot(self):\n",
    "        for color in self.colors:\n",
    "            color_df = visualizer.date_pred_targ_dict.get(color, pd.DataFrame())\n",
    "            plt.scatter(color_df.iloc[:,0], color_df.iloc[:, -2]*10, color=color)\n",
    "            plt.plot(color_df.iloc[:,0], color_df.iloc[:, -2]*10, color=color)\n",
    "            plt.scatter(color_df.iloc[:,0], color_df.iloc[:, -1]*10, color='g')\n",
    "            plt.plot(color_df.iloc[:,0], color_df.iloc[:, -1]*10, color='g')\n",
    "        plt.show()"
   ]
  },
  {
   "cell_type": "markdown",
   "metadata": {},
   "source": [
    "## Eval"
   ]
  },
  {
   "cell_type": "code",
   "execution_count": null,
   "metadata": {
    "scrolled": true
   },
   "outputs": [],
   "source": [
    "# Loading the best model\n",
    "model.load_state_dict(torch.load('./state_dict.pt'))\n",
    "visualizer = Visualizer()\n",
    "\n",
    "mse_losses = []\n",
    "mae_losses = []\n",
    "kldiv_losses = []\n",
    "num_correct = 0\n",
    "custom_batch = BATCH_SIZE\n",
    "index_of_elapsed = train_data.columns.tolist().index(ELAPSED)\n",
    "\n",
    "h = model.init_hidden(custom_batch)\n",
    "\n",
    "model.eval()\n",
    "for inputs, labels in tqdm(train_loader):\n",
    "    if inputs.shape[0] != custom_batch:\n",
    "        continue\n",
    "    inputs, labels = inputs.to(DEVICE), labels.to(DEVICE)\n",
    "    output, h = model(inputs, h)\n",
    "    visualizer.add(inputs[:,index_of_elapsed], output, labels[:,-1], color='black')\n",
    "    \n",
    "for inputs, labels in tqdm(val_loader):\n",
    "    if inputs.shape[0] != custom_batch:\n",
    "        continue\n",
    "    inputs, labels = inputs.to(DEVICE), labels.to(DEVICE)\n",
    "    output, h = model(inputs, h)\n",
    "    visualizer.add(inputs[:,index_of_elapsed], output, labels[:,-1], color='blue')\n",
    "    \n",
    "for inputs, labels in tqdm(test_loader):\n",
    "    if inputs.shape[0] != custom_batch:\n",
    "        continue\n",
    "    inputs, labels = inputs.to(DEVICE), labels.to(DEVICE)\n",
    "    output, h = model(inputs, h)\n",
    "    visualizer.add(inputs[:,index_of_elapsed], output, labels[:,-1])\n",
    "    mse_losses.append(nn.MSELoss()(output.squeeze(), labels.float()).item())\n",
    "    mae_losses.append(nn.L1Loss()(output.squeeze(), labels.float()).item())\n",
    "    kldiv_losses.append(nn.KLDivLoss()(output.squeeze(), labels.float()).item())\n",
    "    \n",
    "\n",
    "print(\"MSE loss: {:.8f}\".format(np.mean(mse_losses)))\n",
    "print(\"MAE loss: {:.8f}\".format(np.mean(mae_losses)))\n",
    "print(\"KLDiv loss: {:.8f}\".format(np.mean(kldiv_losses)))"
   ]
  },
  {
   "cell_type": "code",
   "execution_count": 120,
   "metadata": {},
   "outputs": [
    {
     "data": {
      "image/png": "[encoded data removed]",
      "text/plain": [
       "<Figure size 1440x720 with 1 Axes>"
      ]
     },
     "metadata": {
      "needs_background": "light"
     },
     "output_type": "display_data"
    }
   ],
   "source": [
    "plt.figure(figsize=(20,10))\n",
    "# visualizer.plot()\n",
    "for color in ['blue', 'red']:\n",
    "# for color in ['red']:\n",
    "    color_df = visualizer.date_pred_targ_dict.get(color, pd.DataFrame())\n",
    "    plt.scatter(color_df.iloc[:,0], color_df.iloc[:, -2]*10, color=color)\n",
    "    plt.plot(color_df.iloc[:,0], color_df.iloc[:, -2]*10, color=color)\n",
    "    plt.scatter(color_df.iloc[:,0], color_df.iloc[:, -1]*10, color='g')\n",
    "    plt.plot(color_df.iloc[:,0], color_df.iloc[:, -1]*10, color='g')\n",
    "plt.show()"
   ]
  },
  {
   "cell_type": "markdown",
   "metadata": {},
   "source": [
    "Hyperparameters:\n",
    "\n",
    "- model:\n",
    "    - embedding_dim=features*2   ✓\n",
    "    - hidden_dim=features*16  ✓\n",
    "- learning rate  \n",
    "- batch size (window size?)\n",
    "- DONE - DID IMPROVE criterion = nn.MSELoss()   ✓\n",
    "    - try a loss which scales through time. ✓\n",
    "- optimizer = torch.optim.Adam(model.parameters(), lr=lr)\n",
    "- add polynomial features ✓"
   ]
  },
  {
   "cell_type": "code",
   "execution_count": null,
   "metadata": {},
   "outputs": [],
   "source": []
  },
  {
   "cell_type": "code",
   "execution_count": null,
   "metadata": {},
   "outputs": [],
   "source": []
  }
 ],
 "metadata": {
  "kernelspec": {
   "display_name": "Python 3",
   "language": "python",
   "name": "python3"
  },
  "language_info": {
   "codemirror_mode": {
    "name": "ipython",
    "version": 3
   },
   "file_extension": ".py",
   "mimetype": "text/x-python",
   "name": "python",
   "nbconvert_exporter": "python",
   "pygments_lexer": "ipython3",
   "version": "3.7.3"
  },
  "toc": {
   "base_numbering": 1,
   "nav_menu": {},
   "number_sections": true,
   "sideBar": true,
   "skip_h1_title": false,
   "title_cell": "Table of Contents",
   "title_sidebar": "Contents",
   "toc_cell": false,
   "toc_position": {},
   "toc_section_display": true,
   "toc_window_display": false
  }
 },
 "nbformat": 4,
 "nbformat_minor": 2
}
